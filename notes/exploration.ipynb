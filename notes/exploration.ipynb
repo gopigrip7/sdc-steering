{
 "cells": [
  {
   "cell_type": "markdown",
   "metadata": {},
   "source": [
    "## Exploring data and bag2tf"
   ]
  },
  {
   "cell_type": "code",
   "execution_count": 1,
   "metadata": {
    "collapsed": false
   },
   "outputs": [
    {
     "name": "stdout",
     "output_type": "stream",
     "text": [
      "sample.bag\r\n"
     ]
    }
   ],
   "source": [
    "ls /data/data"
   ]
  },
  {
   "cell_type": "code",
   "execution_count": 2,
   "metadata": {
    "collapsed": false
   },
   "outputs": [
    {
     "name": "stdout",
     "output_type": "stream",
     "text": [
      "path:        /data/data/sample.bag\n",
      "version:     2.0\n",
      "duration:    0.5s\n",
      "start:       Sep 29 2016 22:09:25.49 (1475186965.49)\n",
      "end:         Sep 29 2016 22:09:25.00 (1475186966.00)\n",
      "size:        21.3 MB\n",
      "messages:    810\n",
      "compression: none [25/25 chunks]\n",
      "types:       dataspeed_can_msgs/CanMessageStamped  [33747cb98e223cafb806d7e94cb4071f]\n",
      "             dbw_mkz_msgs/BrakeInfoReport          [fc88af128b5b3213ea25ab325a9b3bbb]\n",
      "             dbw_mkz_msgs/BrakeReport              [a306c167d365176ae6159e3c4e3f3197]\n",
      "             dbw_mkz_msgs/FuelLevelReport          [f5ec1964dbda02fda82785b8035744e4]\n",
      "             dbw_mkz_msgs/GearReport               [f33342dfeb80c29d8fe4b31e22519594]\n",
      "             dbw_mkz_msgs/Misc1Report              [9ecd16fb81815b3e46e0550feea1da2f]\n",
      "             dbw_mkz_msgs/SteeringReport           [25bf2c220d904531d8bc16ab5271325d]\n",
      "             dbw_mkz_msgs/SurroundReport           [17a8c9ed72da4f55d44d6d71483cf0e3]\n",
      "             dbw_mkz_msgs/ThrottleInfoReport       [8255d20d2bbc661ad39074024259c71a]\n",
      "             dbw_mkz_msgs/ThrottleReport           [a7fd7b93c8549e83c319e38a18f6dbdc]\n",
      "             dbw_mkz_msgs/WheelSpeedReport         [a2c91f746e5d8bec139c834f92ac7468]\n",
      "             diagnostic_msgs/DiagnosticArray       [60810da900de1dd6ddd437c3503511da]\n",
      "             dynamic_reconfigure/Config            [958f16a05573709014982821e6822580]\n",
      "             dynamic_reconfigure/ConfigDescription [757ce9d44ba8ddd801bb30bc456f946f]\n",
      "             sensor_msgs/Image                     [060021388200f6f0f447d0fcd9c64743]\n",
      "             sensor_msgs/Imu                       [6a62c6daae103f4ff57a132d6f95cec2]\n",
      "             sensor_msgs/JointState                [3066dcd76a6cfaef579bd0f34173e9fd]\n",
      "             sensor_msgs/PointCloud2               [1158d486dd51d683ce2f1be655c3c181]\n",
      "             std_msgs/Bool                         [8b94c1b53db61fb6aed406028ad6332a]\n",
      "             std_msgs/Float64                      [fdb28210bfa9d7c91146260178d9a584]\n",
      "             tf2_msgs/TFMessage                    [94810edda583a504dfda3829e70d7eec]\n",
      "topics:      /can_bus_dbw/can_rx                                365 msgs    : dataspeed_can_msgs/CanMessageStamped \n",
      "             /center_camera/image_color                           8 msgs    : sensor_msgs/Image                    \n",
      "             /diagnostics                                         3 msgs    : diagnostic_msgs/DiagnosticArray      \n",
      "             /left_camera/image_color                             8 msgs    : sensor_msgs/Image                    \n",
      "             /right_camera/image_color                            8 msgs    : sensor_msgs/Image                    \n",
      "             /tf                                                 27 msgs    : tf2_msgs/TFMessage                   \n",
      "             /vehicle/brake_info_report                          25 msgs    : dbw_mkz_msgs/BrakeInfoReport         \n",
      "             /vehicle/brake_report                               25 msgs    : dbw_mkz_msgs/BrakeReport             \n",
      "             /vehicle/dbw_enabled                                 1 msg     : std_msgs/Bool                        \n",
      "             /vehicle/filtered_accel                             23 msgs    : std_msgs/Float64                     \n",
      "             /vehicle/fuel_level_report                           5 msgs    : dbw_mkz_msgs/FuelLevelReport         \n",
      "             /vehicle/gear_report                                10 msgs    : dbw_mkz_msgs/GearReport              \n",
      "             /vehicle/imu/data_raw                               48 msgs    : sensor_msgs/Imu                      \n",
      "             /vehicle/joint_states                               71 msgs    : sensor_msgs/JointState               \n",
      "             /vehicle/misc_1_report                              10 msgs    : dbw_mkz_msgs/Misc1Report             \n",
      "             /vehicle/sonar_cloud                                 3 msgs    : sensor_msgs/PointCloud2              \n",
      "             /vehicle/steering_report                            23 msgs    : dbw_mkz_msgs/SteeringReport          \n",
      "             /vehicle/surround_report                             3 msgs    : dbw_mkz_msgs/SurroundReport          \n",
      "             /vehicle/suspension_report                          24 msgs    : dbw_mkz_msgs/WheelSpeedReport        \n",
      "             /vehicle/throttle_info_report                       47 msgs    : dbw_mkz_msgs/ThrottleInfoReport      \n",
      "             /vehicle/throttle_report                            23 msgs    : dbw_mkz_msgs/ThrottleReport          \n",
      "             /vehicle/tire_pressure_report                        1 msg     : dbw_mkz_msgs/WheelSpeedReport        \n",
      "             /vehicle/twist_controller/parameter_descriptions     1 msg     : dynamic_reconfigure/ConfigDescription\n",
      "             /vehicle/twist_controller/parameter_updates          1 msg     : dynamic_reconfigure/Config           \n",
      "             /vehicle/wheel_speed_report                         47 msgs    : dbw_mkz_msgs/WheelSpeedReport\n"
     ]
    }
   ],
   "source": [
    "%%bash\n",
    "rosbag info /data/data/sample.bag"
   ]
  },
  {
   "cell_type": "code",
   "execution_count": 3,
   "metadata": {
    "collapsed": false
   },
   "outputs": [],
   "source": [
    "from steering.bag import bag_to_tf"
   ]
  },
  {
   "cell_type": "code",
   "execution_count": 4,
   "metadata": {
    "collapsed": false
   },
   "outputs": [
    {
     "name": "stdout",
     "output_type": "stream",
     "text": [
      "steering 1475186965539079525, -0.047124\n",
      "steering 1475186965559600255, -0.045379\n",
      "steering 1475186965579162515, -0.045379\n",
      "steering 1475186965599323214, -0.045379\n",
      "l_camera 1475186965602401049\n",
      "steering 1475186965599323214, -0.045379\n",
      "c_camera 1475186965609972775\n",
      "steering 1475186965599323214, -0.045379\n",
      "steering 1475186965619197024, -0.047124\n",
      "r_camera 1475186965630938502\n",
      "steering 1475186965619197024, -0.047124\n",
      "steering 1475186965639366603, -0.047124\n",
      "l_camera 1475186965652132892\n",
      "steering 1475186965639366603, -0.047124\n",
      "steering 1475186965659456415, -0.047124\n",
      "c_camera 1475186965659735933\n",
      "steering 1475186965659456415, -0.047124\n",
      "steering 1475186965679364457, -0.045379\n",
      "r_camera 1475186965680984870\n",
      "steering 1475186965679364457, -0.045379\n",
      "steering 1475186965699477537, -0.043633\n",
      "l_camera 1475186965702318175\n",
      "steering 1475186965699477537, -0.043633\n",
      "c_camera 1475186965709975321\n",
      "steering 1475186965699477537, -0.043633\n",
      "steering 1475186965719584256, -0.043633\n",
      "r_camera 1475186965730856517\n",
      "steering 1475186965719584256, -0.043633\n",
      "steering 1475186965739645329, -0.041888\n",
      "l_camera 1475186965752156948\n",
      "steering 1475186965739645329, -0.041888\n",
      "steering 1475186965759472326, -0.040143\n",
      "c_camera 1475186965759787059\n",
      "steering 1475186965759472326, -0.040143\n",
      "steering 1475186965779624732, -0.040143\n",
      "r_camera 1475186965781003824\n",
      "steering 1475186965779624732, -0.040143\n",
      "steering 1475186965799557778, -0.036652\n",
      "l_camera 1475186965802399251\n",
      "steering 1475186965799557778, -0.036652\n",
      "c_camera 1475186965809874186\n",
      "steering 1475186965799557778, -0.036652\n",
      "steering 1475186965819655535, -0.036652\n",
      "r_camera 1475186965830821152\n",
      "steering 1475186965819655535, -0.036652\n",
      "steering 1475186965839583372, -0.036652\n",
      "l_camera 1475186965852198159\n",
      "steering 1475186965839583372, -0.036652\n",
      "steering 1475186965859648407, -0.034907\n",
      "c_camera 1475186965859775341\n",
      "steering 1475186965859648407, -0.034907\n",
      "steering 1475186965879643540, -0.034907\n",
      "r_camera 1475186965881059867\n",
      "steering 1475186965879643540, -0.034907\n",
      "steering 1475186965899670930, -0.034907\n",
      "l_camera 1475186965902346020\n",
      "steering 1475186965899670930, -0.034907\n",
      "c_camera 1475186965909878065\n",
      "steering 1475186965899670930, -0.034907\n",
      "steering 1475186965919711486, -0.034907\n",
      "r_camera 1475186965930882339\n",
      "steering 1475186965919711486, -0.034907\n",
      "steering 1475186965939721334, -0.034907\n",
      "l_camera 1475186965952185491\n",
      "steering 1475186965939721334, -0.034907\n",
      "steering 1475186965959824629, -0.031416\n",
      "c_camera 1475186965959781540\n",
      "steering 1475186965959824629, -0.031416\n",
      "steering 1475186965979838659, -0.029671\n",
      "r_camera 1475186965981087408\n",
      "steering 1475186965979838659, -0.029671\n",
      "Completed processing 24 images to TF examples.\n",
      "They are available on /output in jpg format\n"
     ]
    }
   ],
   "source": [
    "bag_to_tf(debug=True)"
   ]
  },
  {
   "cell_type": "code",
   "execution_count": 5,
   "metadata": {
    "collapsed": false
   },
   "outputs": [
    {
     "name": "stdout",
     "output_type": "stream",
     "text": [
      "\u001b[0m\u001b[01;34mcenter\u001b[0m/  \u001b[01;34mleft\u001b[0m/  \u001b[01;34mright\u001b[0m/\r\n"
     ]
    }
   ],
   "source": [
    "ls /output"
   ]
  },
  {
   "cell_type": "code",
   "execution_count": 6,
   "metadata": {
    "collapsed": false
   },
   "outputs": [
    {
     "name": "stdout",
     "output_type": "stream",
     "text": [
      "center-00000-of-00002  center-00001-of-00002\r\n"
     ]
    }
   ],
   "source": [
    "ls /output/center"
   ]
  },
  {
   "cell_type": "code",
   "execution_count": 7,
   "metadata": {
    "collapsed": false
   },
   "outputs": [
    {
     "name": "stdout",
     "output_type": "stream",
     "text": [
      "left-00000-of-00002  left-00001-of-00002\r\n"
     ]
    }
   ],
   "source": [
    "ls /output/left"
   ]
  },
  {
   "cell_type": "code",
   "execution_count": 8,
   "metadata": {
    "collapsed": true
   },
   "outputs": [],
   "source": [
    "# Those files there appear to be tensorflow streams of jpeg format - how do we feed it to cnn?"
   ]
  },
  {
   "cell_type": "code",
   "execution_count": null,
   "metadata": {
    "collapsed": true
   },
   "outputs": [],
   "source": [
    "# how come we did not save the steering data? did we?"
   ]
  }
 ],
 "metadata": {
  "kernelspec": {
   "display_name": "Python 2",
   "language": "python",
   "name": "python2"
  },
  "language_info": {
   "codemirror_mode": {
    "name": "ipython",
    "version": 2
   },
   "file_extension": ".py",
   "mimetype": "text/x-python",
   "name": "python",
   "nbconvert_exporter": "python",
   "pygments_lexer": "ipython2",
   "version": "2.7.12"
  }
 },
 "nbformat": 4,
 "nbformat_minor": 1
}
